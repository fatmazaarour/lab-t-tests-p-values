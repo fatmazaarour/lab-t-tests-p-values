{
 "cells": [
  {
   "cell_type": "code",
   "execution_count": 25,
   "id": "99066210",
   "metadata": {},
   "outputs": [],
   "source": [
    "import pandas as pd\n",
    "import numpy as np\n",
    "import scipy.stats as st\n",
    "import matplotlib.pyplot as plt\n",
    "import seaborn as sns"
   ]
  },
  {
   "cell_type": "code",
   "execution_count": 7,
   "id": "f55e359c",
   "metadata": {},
   "outputs": [],
   "source": [
    "with open('machine.txt','rb') as f:\n",
    "    contents = f.read()\n",
    "    contents = contents.decode(\"utf-16\")"
   ]
  },
  {
   "cell_type": "code",
   "execution_count": 9,
   "id": "6d9d1c3f",
   "metadata": {},
   "outputs": [
    {
     "data": {
      "text/plain": [
       "<_io.BufferedReader name='machine.txt'>"
      ]
     },
     "execution_count": 9,
     "metadata": {},
     "output_type": "execute_result"
    }
   ],
   "source": [
    "f"
   ]
  },
  {
   "cell_type": "code",
   "execution_count": 13,
   "id": "05bb645b",
   "metadata": {},
   "outputs": [
    {
     "ename": "TypeError",
     "evalue": "'str' object is not callable",
     "output_type": "error",
     "traceback": [
      "\u001b[1;31m---------------------------------------------------------------------------\u001b[0m",
      "\u001b[1;31mTypeError\u001b[0m                                 Traceback (most recent call last)",
      "\u001b[1;32m~\\AppData\\Local\\Temp/ipykernel_4456/1667620969.py\u001b[0m in \u001b[0;36m<module>\u001b[1;34m\u001b[0m\n\u001b[1;32m----> 1\u001b[1;33m \u001b[0mcontents\u001b[0m\u001b[1;33m(\u001b[0m\u001b[1;33m)\u001b[0m\u001b[1;33m\u001b[0m\u001b[1;33m\u001b[0m\u001b[0m\n\u001b[0m",
      "\u001b[1;31mTypeError\u001b[0m: 'str' object is not callable"
     ]
    }
   ],
   "source": [
    "contents()"
   ]
  },
  {
   "cell_type": "code",
   "execution_count": 15,
   "id": "8fff6885",
   "metadata": {},
   "outputs": [],
   "source": [
    "data = pd.read_csv('machine.txt', encoding='UTF-16')\n",
    "\n"
   ]
  },
  {
   "cell_type": "code",
   "execution_count": 16,
   "id": "ddb6496b",
   "metadata": {},
   "outputs": [
    {
     "data": {
      "text/html": [
       "<div>\n",
       "<style scoped>\n",
       "    .dataframe tbody tr th:only-of-type {\n",
       "        vertical-align: middle;\n",
       "    }\n",
       "\n",
       "    .dataframe tbody tr th {\n",
       "        vertical-align: top;\n",
       "    }\n",
       "\n",
       "    .dataframe thead th {\n",
       "        text-align: right;\n",
       "    }\n",
       "</style>\n",
       "<table border=\"1\" class=\"dataframe\">\n",
       "  <thead>\n",
       "    <tr style=\"text-align: right;\">\n",
       "      <th></th>\n",
       "      <th>New machine\\t    Old machine</th>\n",
       "    </tr>\n",
       "  </thead>\n",
       "  <tbody>\n",
       "    <tr>\n",
       "      <th>0</th>\n",
       "      <td>42.1\\t        42.7</td>\n",
       "    </tr>\n",
       "    <tr>\n",
       "      <th>1</th>\n",
       "      <td>41\\t            43.6</td>\n",
       "    </tr>\n",
       "    <tr>\n",
       "      <th>2</th>\n",
       "      <td>41.3\\t        43.8</td>\n",
       "    </tr>\n",
       "    <tr>\n",
       "      <th>3</th>\n",
       "      <td>41.8\\t        43.3</td>\n",
       "    </tr>\n",
       "    <tr>\n",
       "      <th>4</th>\n",
       "      <td>42.4\\t        42.5</td>\n",
       "    </tr>\n",
       "    <tr>\n",
       "      <th>5</th>\n",
       "      <td>42.8\\t        43.5</td>\n",
       "    </tr>\n",
       "    <tr>\n",
       "      <th>6</th>\n",
       "      <td>43.2\\t        43.1</td>\n",
       "    </tr>\n",
       "    <tr>\n",
       "      <th>7</th>\n",
       "      <td>42.3\\t        41.7</td>\n",
       "    </tr>\n",
       "    <tr>\n",
       "      <th>8</th>\n",
       "      <td>41.8\\t        44</td>\n",
       "    </tr>\n",
       "    <tr>\n",
       "      <th>9</th>\n",
       "      <td>42.7\\t        44.1</td>\n",
       "    </tr>\n",
       "  </tbody>\n",
       "</table>\n",
       "</div>"
      ],
      "text/plain": [
       "  New machine\\t    Old machine\n",
       "0           42.1\\t        42.7\n",
       "1         41\\t            43.6\n",
       "2           41.3\\t        43.8\n",
       "3           41.8\\t        43.3\n",
       "4           42.4\\t        42.5\n",
       "5           42.8\\t        43.5\n",
       "6           43.2\\t        43.1\n",
       "7           42.3\\t        41.7\n",
       "8             41.8\\t        44\n",
       "9           42.7\\t        44.1"
      ]
     },
     "execution_count": 16,
     "metadata": {},
     "output_type": "execute_result"
    }
   ],
   "source": [
    "data"
   ]
  },
  {
   "cell_type": "code",
   "execution_count": 17,
   "id": "cd726baf",
   "metadata": {},
   "outputs": [],
   "source": [
    "data = pd.read_csv('machine.txt', encoding='UTF-16' , sep = '\\t')"
   ]
  },
  {
   "cell_type": "code",
   "execution_count": 18,
   "id": "94120c89",
   "metadata": {},
   "outputs": [
    {
     "data": {
      "text/html": [
       "<div>\n",
       "<style scoped>\n",
       "    .dataframe tbody tr th:only-of-type {\n",
       "        vertical-align: middle;\n",
       "    }\n",
       "\n",
       "    .dataframe tbody tr th {\n",
       "        vertical-align: top;\n",
       "    }\n",
       "\n",
       "    .dataframe thead th {\n",
       "        text-align: right;\n",
       "    }\n",
       "</style>\n",
       "<table border=\"1\" class=\"dataframe\">\n",
       "  <thead>\n",
       "    <tr style=\"text-align: right;\">\n",
       "      <th></th>\n",
       "      <th>New machine</th>\n",
       "      <th>Old machine</th>\n",
       "    </tr>\n",
       "  </thead>\n",
       "  <tbody>\n",
       "    <tr>\n",
       "      <th>0</th>\n",
       "      <td>42.1</td>\n",
       "      <td>42.7</td>\n",
       "    </tr>\n",
       "    <tr>\n",
       "      <th>1</th>\n",
       "      <td>41.0</td>\n",
       "      <td>43.6</td>\n",
       "    </tr>\n",
       "    <tr>\n",
       "      <th>2</th>\n",
       "      <td>41.3</td>\n",
       "      <td>43.8</td>\n",
       "    </tr>\n",
       "    <tr>\n",
       "      <th>3</th>\n",
       "      <td>41.8</td>\n",
       "      <td>43.3</td>\n",
       "    </tr>\n",
       "    <tr>\n",
       "      <th>4</th>\n",
       "      <td>42.4</td>\n",
       "      <td>42.5</td>\n",
       "    </tr>\n",
       "    <tr>\n",
       "      <th>5</th>\n",
       "      <td>42.8</td>\n",
       "      <td>43.5</td>\n",
       "    </tr>\n",
       "    <tr>\n",
       "      <th>6</th>\n",
       "      <td>43.2</td>\n",
       "      <td>43.1</td>\n",
       "    </tr>\n",
       "    <tr>\n",
       "      <th>7</th>\n",
       "      <td>42.3</td>\n",
       "      <td>41.7</td>\n",
       "    </tr>\n",
       "    <tr>\n",
       "      <th>8</th>\n",
       "      <td>41.8</td>\n",
       "      <td>44.0</td>\n",
       "    </tr>\n",
       "    <tr>\n",
       "      <th>9</th>\n",
       "      <td>42.7</td>\n",
       "      <td>44.1</td>\n",
       "    </tr>\n",
       "  </tbody>\n",
       "</table>\n",
       "</div>"
      ],
      "text/plain": [
       "   New machine      Old machine\n",
       "0         42.1             42.7\n",
       "1         41.0             43.6\n",
       "2         41.3             43.8\n",
       "3         41.8             43.3\n",
       "4         42.4             42.5\n",
       "5         42.8             43.5\n",
       "6         43.2             43.1\n",
       "7         42.3             41.7\n",
       "8         41.8             44.0\n",
       "9         42.7             44.1"
      ]
     },
     "execution_count": 18,
     "metadata": {},
     "output_type": "execute_result"
    }
   ],
   "source": [
    "data"
   ]
  },
  {
   "cell_type": "markdown",
   "id": "5f421454",
   "metadata": {},
   "source": [
    "One tailed t-test - In a packing plant, a machine packs cartons with jars. It is supposed that a new machine will pack faster on the average than the machine currently used. To test that hypothesis, the times it takes each machine to pack ten cartons are recorded. The results, in seconds, are shown in the tables in the file files_for_lab/machine.txt. Assume that there is sufficient evidence to conduct the t test, does the data provide sufficient evidence to show if one machine is better than the other?"
   ]
  },
  {
   "cell_type": "code",
   "execution_count": 58,
   "id": "536c9cee",
   "metadata": {},
   "outputs": [
    {
     "data": {
      "text/plain": [
       "Ttest_relResult(statistic=-3.0614273841115853, pvalue=0.01354033565163249)"
      ]
     },
     "execution_count": 58,
     "metadata": {},
     "output_type": "execute_result"
    }
   ],
   "source": [
    "st.ttest_rel(data['New machine'],data['Old machine'])"
   ]
  },
  {
   "cell_type": "code",
   "execution_count": 76,
   "id": "3004c719",
   "metadata": {},
   "outputs": [],
   "source": [
    "data=data[['New machine','Old machine']]"
   ]
  },
  {
   "cell_type": "code",
   "execution_count": 93,
   "id": "b735ca4b",
   "metadata": {},
   "outputs": [
    {
     "ename": "SyntaxError",
     "evalue": "invalid syntax (Temp/ipykernel_4456/3302648522.py, line 1)",
     "output_type": "error",
     "traceback": [
      "\u001b[1;36m  File \u001b[1;32m\"C:\\Users\\NON\\AppData\\Local\\Temp/ipykernel_4456/3302648522.py\"\u001b[1;36m, line \u001b[1;32m1\u001b[0m\n\u001b[1;33m    data_New machine, data_Old machine = data['New machine'], data['Old machine']\u001b[0m\n\u001b[1;37m             ^\u001b[0m\n\u001b[1;31mSyntaxError\u001b[0m\u001b[1;31m:\u001b[0m invalid syntax\n"
     ]
    }
   ],
   "source": [
    "data_New machine, data_Old machine = data['New machine'], data['Old machine']"
   ]
  },
  {
   "cell_type": "code",
   "execution_count": 84,
   "id": "999edceb",
   "metadata": {},
   "outputs": [
    {
     "ename": "SyntaxError",
     "evalue": "invalid syntax (Temp/ipykernel_4456/4190124726.py, line 1)",
     "output_type": "error",
     "traceback": [
      "\u001b[1;36m  File \u001b[1;32m\"C:\\Users\\NON\\AppData\\Local\\Temp/ipykernel_4456/4190124726.py\"\u001b[1;36m, line \u001b[1;32m1\u001b[0m\n\u001b[1;33m    New machine = data['New machine']\u001b[0m\n\u001b[1;37m        ^\u001b[0m\n\u001b[1;31mSyntaxError\u001b[0m\u001b[1;31m:\u001b[0m invalid syntax\n"
     ]
    }
   ],
   "source": [
    "New machine = data['New machine']\n",
    "Old machine = data['Old machine']"
   ]
  },
  {
   "cell_type": "code",
   "execution_count": 67,
   "id": "f66f2f29",
   "metadata": {},
   "outputs": [],
   "source": [
    "data['New machine'] =  pd.to_numeric(data['New machine'], errors='coerce')\n",
    "data['Old machine'] =  pd.to_numeric(data['Old machine'], errors='coerce')"
   ]
  },
  {
   "cell_type": "code",
   "execution_count": 69,
   "id": "682e382f",
   "metadata": {},
   "outputs": [],
   "source": [
    "new_machine_mean = data['New machine'].mean()\n",
    "old_machine_mean = data['Old machine'].mean()"
   ]
  },
  {
   "cell_type": "code",
   "execution_count": 90,
   "id": "bef1dc0a",
   "metadata": {},
   "outputs": [],
   "source": [
    "data_new_machine_mean, data_old_machine_mean = data['New machine'].mean(), data['Old machine'].mean()"
   ]
  },
  {
   "cell_type": "code",
   "execution_count": 80,
   "id": "0db77c34",
   "metadata": {},
   "outputs": [],
   "source": [
    "new_machine_std = data['New machine'].std()\n",
    "old_machine_std = data['Old machine'].std()"
   ]
  },
  {
   "cell_type": "code",
   "execution_count": 95,
   "id": "f66a6284",
   "metadata": {},
   "outputs": [],
   "source": [
    "data_new_machine_std, data_old_machine_std = data['New machine'].std(ddof=1), data['Old machine'].std(ddof=1)"
   ]
  },
  {
   "cell_type": "code",
   "execution_count": 100,
   "id": "7242e6c3",
   "metadata": {},
   "outputs": [
    {
     "data": {
      "text/plain": [
       "10"
      ]
     },
     "execution_count": 100,
     "metadata": {},
     "output_type": "execute_result"
    }
   ],
   "source": [
    "len(data['New machine'])"
   ]
  },
  {
   "cell_type": "code",
   "execution_count": 107,
   "id": "a76ab719",
   "metadata": {},
   "outputs": [
    {
     "name": "stdout",
     "output_type": "stream",
     "text": [
      "The mean of data New machine is 42.14\n",
      "The mean of data old_machine is 43.23\n",
      "The standard deviation of data New machine is 0.68\n",
      "The standard deviation of data Old machine is 0.75\n",
      "The ratio of the data variances is 0.91 which is bigger than 0.5 and smaller than 2\n",
      "The t statistic is: -3.40\n"
     ]
    }
   ],
   "source": [
    "sp = ( len(data['New machine']) - 1 ) * ( data_new_machine_std **2 ) +  ( len(data['Old machine']) - 1 ) * ( data_old_machine_std ** 2 )\n",
    "sp /= ( len(data['New machine']) + len(data['Old machine']) - 2)\n",
    "sp = np.sqrt(sp)\n",
    "r = np.sqrt( (1/len(data['New machine'])) + (1/len(data['Old machine'])) )\n",
    "t = ( data_new_machine_mean - data_old_machine_mean )/ (sp * r)\n",
    "\n",
    "print(\"The mean of data New machine is {:.2f}\".format(data_new_machine_mean))\n",
    "print(\"The mean of data old_machine is {:.2f}\".format(data_old_machine_mean))\n",
    "print(\"The standard deviation of data New machine is {:.2f}\".format(data_new_machine_std))\n",
    "print(\"The standard deviation of data Old machine is {:.2f}\".format(data_old_machine_std))\n",
    "print(\"The ratio of the data variances is {:.2f} which is bigger than 0.5 and smaller than 2\".format(data_new_machine_std/data_old_machine_std))\n",
    "print(\"The t statistic is: {:.2f}\".format(t))"
   ]
  },
  {
   "cell_type": "code",
   "execution_count": 87,
   "id": "f17860fa",
   "metadata": {},
   "outputs": [
    {
     "data": {
      "text/plain": [
       "Ttest_relResult(statistic=-3.0614273841115853, pvalue=0.01354033565163249)"
      ]
     },
     "execution_count": 87,
     "metadata": {},
     "output_type": "execute_result"
    }
   ],
   "source": [
    "st.ttest_rel(data['New machine'],data['Old machine'])"
   ]
  },
  {
   "cell_type": "code",
   "execution_count": 32,
   "id": "6142bcb0",
   "metadata": {},
   "outputs": [],
   "source": [
    "data.columns = ['New machine', 'Old machine']"
   ]
  },
  {
   "cell_type": "code",
   "execution_count": 44,
   "id": "cd410b74",
   "metadata": {},
   "outputs": [
    {
     "data": {
      "text/plain": [
       "41.8    2\n",
       "42.1    1\n",
       "41.0    1\n",
       "41.3    1\n",
       "42.4    1\n",
       "42.8    1\n",
       "43.2    1\n",
       "42.3    1\n",
       "42.7    1\n",
       "Name: New machine, dtype: int64"
      ]
     },
     "execution_count": 44,
     "metadata": {},
     "output_type": "execute_result"
    }
   ],
   "source": [
    "data['New machine'].value_counts()"
   ]
  },
  {
   "cell_type": "code",
   "execution_count": 38,
   "id": "5341b7cf",
   "metadata": {},
   "outputs": [
    {
     "data": {
      "text/plain": [
       "Ttest_relResult(statistic=-3.0614273841115853, pvalue=0.01354033565163249)"
      ]
     },
     "execution_count": 38,
     "metadata": {},
     "output_type": "execute_result"
    }
   ],
   "source": [
    "st.ttest_rel(data['New machine'],data['Old machine'])"
   ]
  },
  {
   "cell_type": "code",
   "execution_count": 109,
   "id": "6ba952c4",
   "metadata": {},
   "outputs": [
    {
     "name": "stdout",
     "output_type": "stream",
     "text": [
      "The value of S2t is 0.60\n"
     ]
    }
   ],
   "source": [
    "S2t = 0\n",
    "for machine in data['New machine'].unique():\n",
    "    ng = len(data[data['New machine'] == machine])  \n",
    "    S2t  += ( ( data[data['New machine'] == machine]['Old machine'].mean() - data['Old machine'].mean() ) ** 2) * ng\n",
    "S2t /= ( data['New machine'].nunique() - 1 )\n",
    "print(\"The value of S2t is {:.2f}\".format(S2t)) "
   ]
  },
  {
   "cell_type": "code",
   "execution_count": 111,
   "id": "de1dc280",
   "metadata": {},
   "outputs": [
    {
     "name": "stdout",
     "output_type": "stream",
     "text": [
      "\n",
      "The value of S2E is 0.25\n"
     ]
    }
   ],
   "source": [
    "S2E = 0\n",
    "for machine in data['New machine'].unique():\n",
    "    for rate in data[data['New machine'] == machine]['Old machine']:\n",
    "        S2E += ( rate - data[data['New machine'] == machine]['Old machine'].mean() ) ** 2\n",
    "S2E /= ( len(data) - data['New machine'].nunique() ) \n",
    "\n",
    "print()\n",
    "print(\"The value of S2E is {:.2f}\".format(S2E))"
   ]
  },
  {
   "cell_type": "code",
   "execution_count": 112,
   "id": "ed3a352d",
   "metadata": {},
   "outputs": [
    {
     "name": "stdout",
     "output_type": "stream",
     "text": [
      "The value of F is 2.46\n"
     ]
    }
   ],
   "source": [
    "F = S2t / S2E\n",
    "print(\"The value of F is {:.2f}\".format(F))"
   ]
  },
  {
   "cell_type": "code",
   "execution_count": null,
   "id": "8fe2683f",
   "metadata": {},
   "outputs": [],
   "source": []
  },
  {
   "cell_type": "code",
   "execution_count": null,
   "id": "f3330ae8",
   "metadata": {},
   "outputs": [],
   "source": []
  },
  {
   "cell_type": "markdown",
   "id": "448684dd",
   "metadata": {},
   "source": [
    "# pokemon"
   ]
  },
  {
   "cell_type": "markdown",
   "id": "6003562a",
   "metadata": {},
   "source": [
    "#H0:the defense and attack scores are equal.\n",
    "#h1: the defense and attack scores are not equal"
   ]
  },
  {
   "cell_type": "code",
   "execution_count": 40,
   "id": "0dbc41ec",
   "metadata": {},
   "outputs": [],
   "source": [
    "data2 = pd.read_csv('pokemon.csv')"
   ]
  },
  {
   "cell_type": "code",
   "execution_count": 41,
   "id": "0849532d",
   "metadata": {},
   "outputs": [
    {
     "data": {
      "text/html": [
       "<div>\n",
       "<style scoped>\n",
       "    .dataframe tbody tr th:only-of-type {\n",
       "        vertical-align: middle;\n",
       "    }\n",
       "\n",
       "    .dataframe tbody tr th {\n",
       "        vertical-align: top;\n",
       "    }\n",
       "\n",
       "    .dataframe thead th {\n",
       "        text-align: right;\n",
       "    }\n",
       "</style>\n",
       "<table border=\"1\" class=\"dataframe\">\n",
       "  <thead>\n",
       "    <tr style=\"text-align: right;\">\n",
       "      <th></th>\n",
       "      <th>#</th>\n",
       "      <th>Name</th>\n",
       "      <th>Type 1</th>\n",
       "      <th>Type 2</th>\n",
       "      <th>Total</th>\n",
       "      <th>HP</th>\n",
       "      <th>Attack</th>\n",
       "      <th>Defense</th>\n",
       "      <th>Sp. Atk</th>\n",
       "      <th>Sp. Def</th>\n",
       "      <th>Speed</th>\n",
       "      <th>Generation</th>\n",
       "      <th>Legendary</th>\n",
       "    </tr>\n",
       "  </thead>\n",
       "  <tbody>\n",
       "    <tr>\n",
       "      <th>0</th>\n",
       "      <td>1</td>\n",
       "      <td>Bulbasaur</td>\n",
       "      <td>Grass</td>\n",
       "      <td>Poison</td>\n",
       "      <td>318</td>\n",
       "      <td>45</td>\n",
       "      <td>49</td>\n",
       "      <td>49</td>\n",
       "      <td>65</td>\n",
       "      <td>65</td>\n",
       "      <td>45</td>\n",
       "      <td>1</td>\n",
       "      <td>False</td>\n",
       "    </tr>\n",
       "    <tr>\n",
       "      <th>1</th>\n",
       "      <td>2</td>\n",
       "      <td>Ivysaur</td>\n",
       "      <td>Grass</td>\n",
       "      <td>Poison</td>\n",
       "      <td>405</td>\n",
       "      <td>60</td>\n",
       "      <td>62</td>\n",
       "      <td>63</td>\n",
       "      <td>80</td>\n",
       "      <td>80</td>\n",
       "      <td>60</td>\n",
       "      <td>1</td>\n",
       "      <td>False</td>\n",
       "    </tr>\n",
       "    <tr>\n",
       "      <th>2</th>\n",
       "      <td>3</td>\n",
       "      <td>Venusaur</td>\n",
       "      <td>Grass</td>\n",
       "      <td>Poison</td>\n",
       "      <td>525</td>\n",
       "      <td>80</td>\n",
       "      <td>82</td>\n",
       "      <td>83</td>\n",
       "      <td>100</td>\n",
       "      <td>100</td>\n",
       "      <td>80</td>\n",
       "      <td>1</td>\n",
       "      <td>False</td>\n",
       "    </tr>\n",
       "    <tr>\n",
       "      <th>3</th>\n",
       "      <td>3</td>\n",
       "      <td>VenusaurMega Venusaur</td>\n",
       "      <td>Grass</td>\n",
       "      <td>Poison</td>\n",
       "      <td>625</td>\n",
       "      <td>80</td>\n",
       "      <td>100</td>\n",
       "      <td>123</td>\n",
       "      <td>122</td>\n",
       "      <td>120</td>\n",
       "      <td>80</td>\n",
       "      <td>1</td>\n",
       "      <td>False</td>\n",
       "    </tr>\n",
       "    <tr>\n",
       "      <th>4</th>\n",
       "      <td>4</td>\n",
       "      <td>Charmander</td>\n",
       "      <td>Fire</td>\n",
       "      <td>NaN</td>\n",
       "      <td>309</td>\n",
       "      <td>39</td>\n",
       "      <td>52</td>\n",
       "      <td>43</td>\n",
       "      <td>60</td>\n",
       "      <td>50</td>\n",
       "      <td>65</td>\n",
       "      <td>1</td>\n",
       "      <td>False</td>\n",
       "    </tr>\n",
       "  </tbody>\n",
       "</table>\n",
       "</div>"
      ],
      "text/plain": [
       "   #                   Name Type 1  Type 2  Total  HP  Attack  Defense  \\\n",
       "0  1              Bulbasaur  Grass  Poison    318  45      49       49   \n",
       "1  2                Ivysaur  Grass  Poison    405  60      62       63   \n",
       "2  3               Venusaur  Grass  Poison    525  80      82       83   \n",
       "3  3  VenusaurMega Venusaur  Grass  Poison    625  80     100      123   \n",
       "4  4             Charmander   Fire     NaN    309  39      52       43   \n",
       "\n",
       "   Sp. Atk  Sp. Def  Speed  Generation  Legendary  \n",
       "0       65       65     45           1      False  \n",
       "1       80       80     60           1      False  \n",
       "2      100      100     80           1      False  \n",
       "3      122      120     80           1      False  \n",
       "4       60       50     65           1      False  "
      ]
     },
     "execution_count": 41,
     "metadata": {},
     "output_type": "execute_result"
    }
   ],
   "source": [
    "data2.head()"
   ]
  },
  {
   "cell_type": "code",
   "execution_count": 43,
   "id": "38ab42e8",
   "metadata": {},
   "outputs": [
    {
     "data": {
      "text/plain": [
       "Ttest_relResult(statistic=-4.325566393330478, pvalue=1.7140303479358558e-05)"
      ]
     },
     "execution_count": 43,
     "metadata": {},
     "output_type": "execute_result"
    }
   ],
   "source": [
    "st.ttest_rel(data2['Defense'],data2['Attack'])"
   ]
  },
  {
   "cell_type": "code",
   "execution_count": 120,
   "id": "8d13d990",
   "metadata": {},
   "outputs": [],
   "source": [
    "data2 = data2[['Attack','Defense']]"
   ]
  },
  {
   "cell_type": "code",
   "execution_count": 123,
   "id": "979071fe",
   "metadata": {},
   "outputs": [],
   "source": [
    "Attack_mean = data2['Attack'].mean()\n",
    "Defense_mean = data2['Defense'].mean()"
   ]
  },
  {
   "cell_type": "code",
   "execution_count": 124,
   "id": "6e14e0ad",
   "metadata": {},
   "outputs": [],
   "source": [
    "Attack_mean, Defense_mean = data2['Attack'].mean(), data2['Defense'].mean()"
   ]
  },
  {
   "cell_type": "code",
   "execution_count": 126,
   "id": "3e2a702b",
   "metadata": {},
   "outputs": [],
   "source": [
    "Attack_std = data2['Attack'].std()\n",
    "Defense_std = data2['Defense'].std()"
   ]
  },
  {
   "cell_type": "code",
   "execution_count": 127,
   "id": "ec78eb13",
   "metadata": {},
   "outputs": [],
   "source": [
    "Attack_std, Defense_std = data2['Attack'].std(ddof=1), data2['Defense'].std(ddof=1)"
   ]
  },
  {
   "cell_type": "code",
   "execution_count": 128,
   "id": "57739c15",
   "metadata": {},
   "outputs": [
    {
     "name": "stdout",
     "output_type": "stream",
     "text": [
      "The mean of data New machine is 79.00\n",
      "The mean of data old_machine is 73.84\n",
      "The standard deviation of data New machine is 32.46\n",
      "The standard deviation of data Old machine is 31.18\n",
      "The ratio of the data variances is 1.04 which is bigger than 0.5 and smaller than 2\n",
      "The t statistic is: -0.68\n"
     ]
    }
   ],
   "source": [
    "sp = ( len(data2['Attack']) - 1 ) * ( Attack_std **2 ) +  ( len(data2['Defense']) - 1 ) * ( Defense_std ** 2 )\n",
    "sp /= ( len(data2['Attack']) + len(data2['Defense']) - 2)\n",
    "sp = np.sqrt(sp)\n",
    "r = np.sqrt( (1/len(data2['Attack'])) + (1/len(data2['Defense'])) )\n",
    "t = ( data_new_machine_mean - data_old_machine_mean )/ (sp * r)\n",
    "\n",
    "print(\"The mean of data New machine is {:.2f}\".format(Attack_mean))\n",
    "print(\"The mean of data old_machine is {:.2f}\".format(Defense_mean))\n",
    "print(\"The standard deviation of data New machine is {:.2f}\".format(Attack_std ))\n",
    "print(\"The standard deviation of data Old machine is {:.2f}\".format(Defense_std ))\n",
    "print(\"The ratio of the data variances is {:.2f} which is bigger than 0.5 and smaller than 2\".format(Attack_std /Defense_std ))\n",
    "print(\"The t statistic is: {:.2f}\".format(t))"
   ]
  },
  {
   "cell_type": "code",
   "execution_count": 129,
   "id": "203fca34",
   "metadata": {},
   "outputs": [
    {
     "data": {
      "text/plain": [
       "Ttest_relResult(statistic=4.325566393330478, pvalue=1.7140303479358558e-05)"
      ]
     },
     "execution_count": 129,
     "metadata": {},
     "output_type": "execute_result"
    }
   ],
   "source": [
    "st.ttest_rel(data2['Attack'],data2['Defense'])"
   ]
  },
  {
   "cell_type": "code",
   "execution_count": 130,
   "id": "543b8749",
   "metadata": {},
   "outputs": [
    {
     "name": "stdout",
     "output_type": "stream",
     "text": [
      "The value of S2t is 2056.81\n"
     ]
    }
   ],
   "source": [
    "S2t = 0\n",
    "for pokemon in data2['Attack'].unique():\n",
    "    ng = len(data2[data2['Attack'] == pokemon])  \n",
    "    S2t  += ( ( data2[data2['Attack'] == pokemon]['Defense'].mean() - data2['Defense'].mean() ) ** 2) * ng\n",
    "S2t /= ( data2['Attack'].nunique() - 1 )\n",
    "print(\"The value of S2t is {:.2f}\".format(S2t)) "
   ]
  },
  {
   "cell_type": "code",
   "execution_count": 168,
   "id": "4ff8a88a",
   "metadata": {},
   "outputs": [
    {
     "name": "stdout",
     "output_type": "stream",
     "text": [
      "\n",
      "The value of S2E is 799.28\n"
     ]
    }
   ],
   "source": [
    "S2E = 0\n",
    "for pokemon in data2['Attack'].unique():\n",
    "    for rate in data2[data2['Attack']== pokemon]['Defense']:\n",
    "        S2E += ( rate - data2[data2['Attack'] == pokemon]['Defense'].mean() ) ** 2\n",
    "S2E /= ( len(data2) - data2['Attack'].nunique() ) \n",
    "\n",
    "print()\n",
    "print(\"The value of S2E is {:.2f}\".format(S2E))"
   ]
  },
  {
   "cell_type": "code",
   "execution_count": 169,
   "id": "be449bfb",
   "metadata": {},
   "outputs": [
    {
     "name": "stdout",
     "output_type": "stream",
     "text": [
      "The value of F is nan\n"
     ]
    }
   ],
   "source": [
    "F = S2t / S2E\n",
    "print(\"The value of F is {:.2f}\".format(F))"
   ]
  },
  {
   "cell_type": "code",
   "execution_count": null,
   "id": "0715dd59",
   "metadata": {},
   "outputs": [],
   "source": []
  },
  {
   "cell_type": "markdown",
   "id": "3854f45c",
   "metadata": {},
   "source": [
    "# Part 1"
   ]
  },
  {
   "cell_type": "code",
   "execution_count": 115,
   "id": "9561c70e",
   "metadata": {},
   "outputs": [],
   "source": [
    "ANOVA= pd.read_excel('anova_lab_data.xlsx')"
   ]
  },
  {
   "cell_type": "code",
   "execution_count": 134,
   "id": "c3744351",
   "metadata": {},
   "outputs": [
    {
     "data": {
      "text/html": [
       "<div>\n",
       "<style scoped>\n",
       "    .dataframe tbody tr th:only-of-type {\n",
       "        vertical-align: middle;\n",
       "    }\n",
       "\n",
       "    .dataframe tbody tr th {\n",
       "        vertical-align: top;\n",
       "    }\n",
       "\n",
       "    .dataframe thead th {\n",
       "        text-align: right;\n",
       "    }\n",
       "</style>\n",
       "<table border=\"1\" class=\"dataframe\">\n",
       "  <thead>\n",
       "    <tr style=\"text-align: right;\">\n",
       "      <th></th>\n",
       "      <th>Power</th>\n",
       "      <th>Etching Rate</th>\n",
       "    </tr>\n",
       "  </thead>\n",
       "  <tbody>\n",
       "    <tr>\n",
       "      <th>0</th>\n",
       "      <td>160 W</td>\n",
       "      <td>5.43</td>\n",
       "    </tr>\n",
       "    <tr>\n",
       "      <th>1</th>\n",
       "      <td>180 W</td>\n",
       "      <td>6.24</td>\n",
       "    </tr>\n",
       "    <tr>\n",
       "      <th>2</th>\n",
       "      <td>200 W</td>\n",
       "      <td>8.79</td>\n",
       "    </tr>\n",
       "    <tr>\n",
       "      <th>3</th>\n",
       "      <td>160 W</td>\n",
       "      <td>5.71</td>\n",
       "    </tr>\n",
       "    <tr>\n",
       "      <th>4</th>\n",
       "      <td>180 W</td>\n",
       "      <td>6.71</td>\n",
       "    </tr>\n",
       "  </tbody>\n",
       "</table>\n",
       "</div>"
      ],
      "text/plain": [
       "  Power   Etching Rate\n",
       "0  160 W          5.43\n",
       "1  180 W          6.24\n",
       "2  200 W          8.79\n",
       "3  160 W          5.71\n",
       "4  180 W          6.71"
      ]
     },
     "execution_count": 134,
     "metadata": {},
     "output_type": "execute_result"
    }
   ],
   "source": [
    "ANOVA.head()"
   ]
  },
  {
   "cell_type": "code",
   "execution_count": 167,
   "id": "78910469",
   "metadata": {},
   "outputs": [
    {
     "data": {
      "text/plain": [
       "Series([], Name: Power, dtype: int64)"
      ]
     },
     "execution_count": 167,
     "metadata": {},
     "output_type": "execute_result"
    }
   ],
   "source": [
    "ANOVA['Power'].value_counts()"
   ]
  },
  {
   "cell_type": "code",
   "execution_count": 139,
   "id": "0c0baecb",
   "metadata": {},
   "outputs": [],
   "source": [
    "ANOVA.columns=ANOVA.columns.str.strip()"
   ]
  },
  {
   "cell_type": "code",
   "execution_count": 140,
   "id": "18aca31c",
   "metadata": {},
   "outputs": [
    {
     "data": {
      "text/plain": [
       "160 W    5\n",
       "180 W    5\n",
       "200 W    5\n",
       "Name: Power, dtype: int64"
      ]
     },
     "execution_count": 140,
     "metadata": {},
     "output_type": "execute_result"
    }
   ],
   "source": [
    "ANOVA['Power'].value_counts()"
   ]
  },
  {
   "cell_type": "code",
   "execution_count": 144,
   "id": "3888c368",
   "metadata": {},
   "outputs": [
    {
     "data": {
      "text/plain": [
       "0     5.43\n",
       "1     6.24\n",
       "2     8.79\n",
       "3     5.71\n",
       "4     6.71\n",
       "5     9.20\n",
       "6     6.22\n",
       "7     5.98\n",
       "8     7.90\n",
       "9     6.01\n",
       "10    5.66\n",
       "11    8.15\n",
       "12    5.59\n",
       "13    6.60\n",
       "14    7.55\n",
       "Name: Etching Rate, dtype: float64"
      ]
     },
     "execution_count": 144,
     "metadata": {},
     "output_type": "execute_result"
    }
   ],
   "source": [
    "ANOVA['Etching Rate']"
   ]
  },
  {
   "cell_type": "code",
   "execution_count": 177,
   "id": "f46b6dbf",
   "metadata": {},
   "outputs": [
    {
     "data": {
      "text/plain": [
       "0    NaN\n",
       "1    NaN\n",
       "2    NaN\n",
       "3    NaN\n",
       "4    NaN\n",
       "5    NaN\n",
       "6    NaN\n",
       "7    NaN\n",
       "8    NaN\n",
       "9    NaN\n",
       "10   NaN\n",
       "11   NaN\n",
       "12   NaN\n",
       "13   NaN\n",
       "14   NaN\n",
       "Name: Power, dtype: float64"
      ]
     },
     "execution_count": 177,
     "metadata": {},
     "output_type": "execute_result"
    }
   ],
   "source": [
    "ANOVA['Power']"
   ]
  },
  {
   "cell_type": "code",
   "execution_count": 143,
   "id": "ffcf5e9c",
   "metadata": {},
   "outputs": [
    {
     "data": {
      "text/plain": [
       "Ttest_relResult(statistic=nan, pvalue=nan)"
      ]
     },
     "execution_count": 143,
     "metadata": {},
     "output_type": "execute_result"
    }
   ],
   "source": [
    "st.ttest_rel(ANOVA['Power'],ANOVA['Etching Rate'])"
   ]
  },
  {
   "cell_type": "code",
   "execution_count": 142,
   "id": "bd84c7ab",
   "metadata": {},
   "outputs": [],
   "source": [
    "ANOVA['Power'] =  pd.to_numeric(ANOVA['Power'], errors='coerce')\n",
    "ANOVA['Etching Rate'] =  pd.to_numeric(ANOVA['Etching Rate'], errors='coerce')"
   ]
  },
  {
   "cell_type": "code",
   "execution_count": 179,
   "id": "7ee1d782",
   "metadata": {},
   "outputs": [
    {
     "data": {
      "text/plain": [
       "0    NaN\n",
       "1    NaN\n",
       "2    NaN\n",
       "3    NaN\n",
       "4    NaN\n",
       "5    NaN\n",
       "6    NaN\n",
       "7    NaN\n",
       "8    NaN\n",
       "9    NaN\n",
       "10   NaN\n",
       "11   NaN\n",
       "12   NaN\n",
       "13   NaN\n",
       "14   NaN\n",
       "Name: Power, dtype: float64"
      ]
     },
     "execution_count": 179,
     "metadata": {},
     "output_type": "execute_result"
    }
   ],
   "source": [
    "ANOVA['Power']"
   ]
  },
  {
   "cell_type": "code",
   "execution_count": 145,
   "id": "3b3f2d9e",
   "metadata": {},
   "outputs": [],
   "source": [
    "ANOVA = ANOVA[['Power','Etching Rate']]"
   ]
  },
  {
   "cell_type": "code",
   "execution_count": 153,
   "id": "56b3cbf8",
   "metadata": {},
   "outputs": [],
   "source": [
    "Power_mean = ANOVA ['Power'].mean()\n",
    "Etching_Rate_mean = ANOVA ['Etching Rate'].mean()"
   ]
  },
  {
   "cell_type": "code",
   "execution_count": 154,
   "id": "d5e8a634",
   "metadata": {},
   "outputs": [],
   "source": [
    "Power_mean, Etching_Rate_mean = ANOVA ['Power'].mean(), ANOVA ['Etching Rate'].mean()"
   ]
  },
  {
   "cell_type": "code",
   "execution_count": 155,
   "id": "d53a6735",
   "metadata": {},
   "outputs": [],
   "source": [
    "Power_std = ANOVA ['Power'].std()\n",
    "Etching_Rate_std = ANOVA ['Etching Rate'].std()"
   ]
  },
  {
   "cell_type": "code",
   "execution_count": 156,
   "id": "98f48303",
   "metadata": {},
   "outputs": [],
   "source": [
    "Power_std, Etching_Rate_std = ANOVA ['Power'].std(ddof=1), ANOVA ['Etching Rate'].std(ddof=1)"
   ]
  },
  {
   "cell_type": "code",
   "execution_count": 176,
   "id": "11d10c5c",
   "metadata": {},
   "outputs": [
    {
     "data": {
      "text/plain": [
       "nan"
      ]
     },
     "execution_count": 176,
     "metadata": {},
     "output_type": "execute_result"
    }
   ],
   "source": [
    "Power_std"
   ]
  },
  {
   "cell_type": "code",
   "execution_count": 162,
   "id": "af39e20f",
   "metadata": {},
   "outputs": [
    {
     "name": "stdout",
     "output_type": "stream",
     "text": [
      "The mean of data Power is nan\n",
      "The mean of data Defense is 6.78\n",
      "The standard deviation of data Power is nan\n",
      "The standard deviation of data Defense is 1.23\n",
      "The ratio of the data variances is nan which is bigger than 0.5 and smaller than 2\n",
      "The t statistic is: nan\n"
     ]
    }
   ],
   "source": [
    "sp = ( len(ANOVA ['Power']) - 1 ) * ( Power_std **2 ) +  ( len(ANOVA ['Etching Rate']) - 1 ) * (Etching_Rate_std ** 2 )\n",
    "sp /= ( len(ANOVA ['Power']) + len(ANOVA ['Etching Rate']) - 2)\n",
    "sp = np.sqrt(sp)\n",
    "r = np.sqrt( (1/len(ANOVA ['Power'])) + (1/len(ANOVA ['Etching Rate'])) )\n",
    "t = ( Power_mean - Etching_Rate_mean)/ (sp * r)\n",
    "\n",
    "print(\"The mean of data Power is {:.2f}\".format(Power_mean))\n",
    "print(\"The mean of data Defense is {:.2f}\".format(Etching_Rate_mean))\n",
    "print(\"The standard deviation of data Power is {:.2f}\".format(Power_std ))\n",
    "print(\"The standard deviation of data Defense is {:.2f}\".format(Etching_Rate_std ))\n",
    "print(\"The ratio of the data variances is {:.2f} which is bigger than 0.5 and smaller than 2\".format(Power_std /Etching_Rate_std ))\n",
    "print(\"The t statistic is: {:.2f}\".format(t))"
   ]
  },
  {
   "cell_type": "code",
   "execution_count": 163,
   "id": "940e29ea",
   "metadata": {},
   "outputs": [
    {
     "data": {
      "text/plain": [
       "Ttest_relResult(statistic=nan, pvalue=nan)"
      ]
     },
     "execution_count": 163,
     "metadata": {},
     "output_type": "execute_result"
    }
   ],
   "source": [
    "st.ttest_rel(ANOVA ['Power'],ANOVA ['Etching Rate'])"
   ]
  },
  {
   "cell_type": "code",
   "execution_count": 170,
   "id": "7c75887d",
   "metadata": {},
   "outputs": [
    {
     "name": "stdout",
     "output_type": "stream",
     "text": [
      "The value of S2t is nan\n"
     ]
    }
   ],
   "source": [
    "S2t = 0\n",
    "for ANOVA2 in ANOVA['Power'].unique():\n",
    "    ng = len(ANOVA[ANOVA['Power'] == ANOVA2])  \n",
    "    S2t  += ( ( ANOVA[ANOVA['Power'] == ANOVA2]['Etching Rate'].mean() - ANOVA['Etching Rate'].mean() ) ** 2) * ng\n",
    "S2t /= ( ANOVA['Power'].nunique() - 1 )\n",
    "print(\"The value of S2t is {:.2f}\".format(S2t)) "
   ]
  },
  {
   "cell_type": "code",
   "execution_count": 173,
   "id": "9cde1ea0",
   "metadata": {},
   "outputs": [
    {
     "name": "stdout",
     "output_type": "stream",
     "text": [
      "\n",
      "The value of S2E is 0.00\n"
     ]
    }
   ],
   "source": [
    "S2E = 0\n",
    "for ANOVA2 in ANOVA['Power'].unique():\n",
    "    for rate in ANOVA[ANOVA['Power']== ANOVA2]['Etching Rate']:\n",
    "        S2E += ( rate - ANOVA[ANOVA['Power'] == ANOVA2]['Etching Rate'].mean() ) ** 2\n",
    "S2E /= ( len(ANOVA) - ANOVA['Power'].nunique() ) \n",
    "\n",
    "print()\n",
    "print(\"The value of S2E is {:.2f}\".format(S2E))"
   ]
  },
  {
   "cell_type": "code",
   "execution_count": 174,
   "id": "0f086f3e",
   "metadata": {},
   "outputs": [
    {
     "ename": "ZeroDivisionError",
     "evalue": "float division by zero",
     "output_type": "error",
     "traceback": [
      "\u001b[1;31m---------------------------------------------------------------------------\u001b[0m",
      "\u001b[1;31mZeroDivisionError\u001b[0m                         Traceback (most recent call last)",
      "\u001b[1;32m~\\AppData\\Local\\Temp/ipykernel_4456/3757044765.py\u001b[0m in \u001b[0;36m<module>\u001b[1;34m\u001b[0m\n\u001b[1;32m----> 1\u001b[1;33m \u001b[0mF\u001b[0m \u001b[1;33m=\u001b[0m \u001b[0mS2t\u001b[0m \u001b[1;33m/\u001b[0m \u001b[0mS2E\u001b[0m\u001b[1;33m\u001b[0m\u001b[1;33m\u001b[0m\u001b[0m\n\u001b[0m\u001b[0;32m      2\u001b[0m \u001b[0mprint\u001b[0m\u001b[1;33m(\u001b[0m\u001b[1;34m\"The value of F is {:.2f}\"\u001b[0m\u001b[1;33m.\u001b[0m\u001b[0mformat\u001b[0m\u001b[1;33m(\u001b[0m\u001b[0mF\u001b[0m\u001b[1;33m)\u001b[0m\u001b[1;33m)\u001b[0m\u001b[1;33m\u001b[0m\u001b[1;33m\u001b[0m\u001b[0m\n",
      "\u001b[1;31mZeroDivisionError\u001b[0m: float division by zero"
     ]
    }
   ],
   "source": [
    "F = S2t / S2E\n",
    "print(\"The value of F is {:.2f}\".format(F))"
   ]
  },
  {
   "cell_type": "code",
   "execution_count": null,
   "id": "86e75849",
   "metadata": {},
   "outputs": [],
   "source": []
  }
 ],
 "metadata": {
  "kernelspec": {
   "display_name": "Python 3 (ipykernel)",
   "language": "python",
   "name": "python3"
  },
  "language_info": {
   "codemirror_mode": {
    "name": "ipython",
    "version": 3
   },
   "file_extension": ".py",
   "mimetype": "text/x-python",
   "name": "python",
   "nbconvert_exporter": "python",
   "pygments_lexer": "ipython3",
   "version": "3.9.7"
  }
 },
 "nbformat": 4,
 "nbformat_minor": 5
}
